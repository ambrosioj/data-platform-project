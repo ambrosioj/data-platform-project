{
 "cells": [
  {
   "cell_type": "markdown",
   "metadata": {},
   "source": [
    "# Example Notebook\n",
    "\n",
    "This is an example Jupyter Notebook for demonstrating the integration of Spark, Airflow, and Jupyter Notebooks.\n",
    "\n",
    "## Introduction\n",
    "In this notebook, we will explore how to use Spark for data processing and how to schedule tasks using Airflow."
   ]
  },
  {
   "cell_type": "code",
   "execution_count": null,
   "metadata": {},
   "outputs": [],
   "source": [
    "# Import necessary libraries\n",
    "from pyspark.sql import SparkSession\n",
    "\n",
    "# Create a Spark session\n",
    "spark = SparkSession.builder \\\n",
    "    .appName('Example Notebook') \\\n",
    "    .getOrCreate()\n",
    "\n",
    "# Example DataFrame\n",
    "data = [(1, 'Alice'), (2, 'Bob'), (3, 'Cathy')]\n",
    "columns = ['id', 'name']\n",
    "df = spark.createDataFrame(data, columns)\n",
    "\n",
    "# Show the DataFrame\n",
    "df.show()"
   ]
  },
  {
   "cell_type": "markdown",
   "metadata": {},
   "source": [
    "## Conclusion\n",
    "This notebook serves as a basic template for using Spark within a Jupyter Notebook environment. You can extend it by adding more complex data processing tasks and integrating with Airflow for scheduling."
   ]
  }
 ],
 "metadata": {
  "kernelspec": {
   "display_name": "Python 3",
   "language": "python",
   "name": "python3"
  },
  "language_info": {
   "codemirror_mode": {
    "name": "ipython",
    "version": 3
   },
   "file_extension": ".py",
   "mimetype": "text/x-python",
   "name": "python",
   "nbconvert_exporter": "python",
   "pygments_lexer": "ipython3",
   "version": "3.8.5"
  }
 },
 "nbformat": 4,
 "nbformat_minor": 4
}